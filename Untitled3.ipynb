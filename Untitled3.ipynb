{
  "nbformat": 4,
  "nbformat_minor": 0,
  "metadata": {
    "colab": {
      "name": "Untitled3.ipynb",
      "provenance": [],
      "collapsed_sections": []
    },
    "kernelspec": {
      "name": "python3",
      "display_name": "Python 3"
    },
    "accelerator": "GPU"
  },
  "cells": [
    {
      "cell_type": "code",
      "metadata": {
        "id": "E1DpkSdrzwjG",
        "colab_type": "code",
        "colab": {}
      },
      "source": [
        "import sys\n",
        "from keras import backend as K\n",
        "from tensorflow import keras\n",
        "from matplotlib import pyplot\n",
        "from keras.datasets import cifar10\n",
        "from keras.utils import to_categorical\n",
        "from keras.models import Sequential\n",
        "from keras.layers import Conv2D\n",
        "from keras.layers import MaxPooling2D\n",
        "from keras.layers import Dropout\n",
        "from keras.layers import Dense\n",
        "from keras.layers import Flatten\n",
        "from keras.optimizers import SGD\n",
        "from tensorflow.keras.callbacks import EarlyStopping\n",
        "from tensorflow.keras.callbacks import ModelCheckpoint\n",
        "from tensorflow.keras.models import load_model\n",
        "import h5py\n",
        "%matplotlib inline"
      ],
      "execution_count": 1,
      "outputs": []
    },
    {
      "cell_type": "code",
      "metadata": {
        "id": "idNw-tCp0dXl",
        "colab_type": "code",
        "colab": {}
      },
      "source": [
        "# load train and test dataset\n",
        "def load_dataset():\n",
        "\t# load dataset\n",
        "\t(trainX, trainY), (testX, testY) = cifar10.load_data()\n",
        "\t# one hot encode target values\n",
        "\ttrainY = to_categorical(trainY)\n",
        "\ttestY = to_categorical(testY)\n",
        "\treturn trainX, trainY, testX, testY"
      ],
      "execution_count": 3,
      "outputs": []
    },
    {
      "cell_type": "code",
      "metadata": {
        "id": "h9q6tfIk0i7f",
        "colab_type": "code",
        "colab": {}
      },
      "source": [
        "def prep_pixels(train, test):\n",
        "\t# convert from integers to floats\n",
        "\ttrain_norm = train.astype('float32')\n",
        "\ttest_norm = test.astype('float32')\n",
        "\t# normalize to range 0-1\n",
        "\ttrain_norm = train_norm / 255.0\n",
        "\ttest_norm = test_norm / 255.0\n",
        "\t# return normalized images\n",
        "\treturn train_norm, test_norm\n",
        " "
      ],
      "execution_count": 4,
      "outputs": []
    },
    {
      "cell_type": "code",
      "metadata": {
        "id": "jVhOunBx2P0G",
        "colab_type": "code",
        "colab": {}
      },
      "source": [
        "def define_model():\n",
        "  model = Sequential()\n",
        "  model.add(Conv2D(32, (3, 3), activation='relu', kernel_initializer='he_uniform', padding='same', input_shape=(32, 32, 3)))\n",
        "  model.add(Conv2D(32, (3, 3), activation='relu', kernel_initializer='he_uniform', padding='same'))\n",
        "  model.add(Dropout(0.2))\n",
        "  model.add(MaxPooling2D((2, 2)))\n",
        "\n",
        "  model.add(Conv2D(64, (3, 3), activation='relu', kernel_initializer='he_uniform', padding='same'))\n",
        "  model.add(Conv2D(64, (3, 3), activation='relu', kernel_initializer='he_uniform', padding='same'))\n",
        "  model.add(Dropout(0.2))\n",
        "  model.add(MaxPooling2D((2, 2)))\n",
        "\n",
        "  model.add(Conv2D(128, (3, 3), activation='relu', kernel_initializer='he_uniform', padding='same'))\n",
        "  model.add(Conv2D(128, (3, 3), activation='relu', kernel_initializer='he_uniform', padding='same'))\n",
        "  model.add(Dropout(0.2))\n",
        "  model.add(MaxPooling2D((2, 2)))\n",
        "\n",
        "  model.add(Flatten())\n",
        "  model.add(Dense(128, activation='relu', kernel_initializer='he_uniform'))\n",
        "  model.add(Dropout(0.2))\n",
        "  model.add(Dense(10, activation='softmax'))\n",
        "\t# compile model\n",
        "\t#opt = SGD(lr=0.001, momentum=0.9)\n",
        "  model.compile(optimizer=\"adam\", loss='categorical_crossentropy', metrics=['accuracy'])\n",
        "  return model"
      ],
      "execution_count": 5,
      "outputs": []
    },
    {
      "cell_type": "code",
      "metadata": {
        "id": "fbPkuGSz8i1t",
        "colab_type": "code",
        "colab": {}
      },
      "source": [
        "def summarize_diagnostics(history):\n",
        "\t# plot loss\n",
        "\tpyplot.subplot(211)\n",
        "\tpyplot.title('Cross Entropy Loss')\n",
        "\tpyplot.plot(history.history['loss'], color='blue', label='train')\n",
        "\tpyplot.plot(history.history['val_loss'], color='orange', label='test')\n",
        "\t# plot accuracy\n",
        "\tpyplot.subplot(212)\n",
        "\tpyplot.title('Classification Accuracy')\n",
        "\tpyplot.plot(history.history['accuracy'], color='blue', label='train')\n",
        "\tpyplot.plot(history.history['val_accuracy'], color='orange', label='test')\n",
        "\t# save plot to file\n",
        "\tfilename = sys.argv[0].split('/')[-1]\n",
        "\tpyplot.savefig(filename + '_plot.png')\n",
        "\tpyplot.close()"
      ],
      "execution_count": 6,
      "outputs": []
    },
    {
      "cell_type": "code",
      "metadata": {
        "id": "Qk6zQFR6-krW",
        "colab_type": "code",
        "colab": {
          "base_uri": "https://localhost:8080/",
          "height": 745
        },
        "outputId": "e7274ec0-3594-46bd-aa40-16d2a6e573cd"
      },
      "source": [
        "# load dataset\n",
        "trainX, trainY, testX, testY = load_dataset()\n",
        "# prepare pixel data\n",
        "trainX, testX = prep_pixels(trainX, testX)\n",
        "# define model\n",
        "model = define_model()\n",
        "model.summary()"
      ],
      "execution_count": 7,
      "outputs": [
        {
          "output_type": "stream",
          "text": [
            "Downloading data from https://www.cs.toronto.edu/~kriz/cifar-10-python.tar.gz\n",
            "170500096/170498071 [==============================] - 2s 0us/step\n",
            "Model: \"sequential\"\n",
            "_________________________________________________________________\n",
            "Layer (type)                 Output Shape              Param #   \n",
            "=================================================================\n",
            "conv2d (Conv2D)              (None, 32, 32, 32)        896       \n",
            "_________________________________________________________________\n",
            "conv2d_1 (Conv2D)            (None, 32, 32, 32)        9248      \n",
            "_________________________________________________________________\n",
            "dropout (Dropout)            (None, 32, 32, 32)        0         \n",
            "_________________________________________________________________\n",
            "max_pooling2d (MaxPooling2D) (None, 16, 16, 32)        0         \n",
            "_________________________________________________________________\n",
            "conv2d_2 (Conv2D)            (None, 16, 16, 64)        18496     \n",
            "_________________________________________________________________\n",
            "conv2d_3 (Conv2D)            (None, 16, 16, 64)        36928     \n",
            "_________________________________________________________________\n",
            "dropout_1 (Dropout)          (None, 16, 16, 64)        0         \n",
            "_________________________________________________________________\n",
            "max_pooling2d_1 (MaxPooling2 (None, 8, 8, 64)          0         \n",
            "_________________________________________________________________\n",
            "conv2d_4 (Conv2D)            (None, 8, 8, 128)         73856     \n",
            "_________________________________________________________________\n",
            "conv2d_5 (Conv2D)            (None, 8, 8, 128)         147584    \n",
            "_________________________________________________________________\n",
            "dropout_2 (Dropout)          (None, 8, 8, 128)         0         \n",
            "_________________________________________________________________\n",
            "max_pooling2d_2 (MaxPooling2 (None, 4, 4, 128)         0         \n",
            "_________________________________________________________________\n",
            "flatten (Flatten)            (None, 2048)              0         \n",
            "_________________________________________________________________\n",
            "dense (Dense)                (None, 128)               262272    \n",
            "_________________________________________________________________\n",
            "dropout_3 (Dropout)          (None, 128)               0         \n",
            "_________________________________________________________________\n",
            "dense_1 (Dense)              (None, 10)                1290      \n",
            "=================================================================\n",
            "Total params: 550,570\n",
            "Trainable params: 550,570\n",
            "Non-trainable params: 0\n",
            "_________________________________________________________________\n"
          ],
          "name": "stdout"
        }
      ]
    },
    {
      "cell_type": "code",
      "metadata": {
        "id": "6tx6_f1EBfLx",
        "colab_type": "code",
        "colab": {
          "base_uri": "https://localhost:8080/",
          "height": 1000
        },
        "outputId": "65af195c-0f20-4424-82c5-07c6823ace68"
      },
      "source": [
        "# fit model\n",
        "history = model.fit(trainX, trainY, epochs=100, batch_size=200, validation_data=(testX, testY))"
      ],
      "execution_count": 8,
      "outputs": [
        {
          "output_type": "stream",
          "text": [
            "Epoch 1/100\n",
            "250/250 [==============================] - 4s 15ms/step - loss: 1.7839 - accuracy: 0.3518 - val_loss: 1.4850 - val_accuracy: 0.5138\n",
            "Epoch 2/100\n",
            "250/250 [==============================] - 3s 13ms/step - loss: 1.2942 - accuracy: 0.5374 - val_loss: 1.2080 - val_accuracy: 0.6140\n",
            "Epoch 3/100\n",
            "250/250 [==============================] - 3s 13ms/step - loss: 1.0962 - accuracy: 0.6130 - val_loss: 1.0120 - val_accuracy: 0.6654\n",
            "Epoch 4/100\n",
            "250/250 [==============================] - 3s 13ms/step - loss: 0.9482 - accuracy: 0.6696 - val_loss: 0.9017 - val_accuracy: 0.7009\n",
            "Epoch 5/100\n",
            "250/250 [==============================] - 3s 13ms/step - loss: 0.8506 - accuracy: 0.7016 - val_loss: 0.8780 - val_accuracy: 0.7039\n",
            "Epoch 6/100\n",
            "250/250 [==============================] - 3s 13ms/step - loss: 0.7597 - accuracy: 0.7350 - val_loss: 0.7787 - val_accuracy: 0.7401\n",
            "Epoch 7/100\n",
            "250/250 [==============================] - 3s 13ms/step - loss: 0.6872 - accuracy: 0.7602 - val_loss: 0.7277 - val_accuracy: 0.7508\n",
            "Epoch 8/100\n",
            "250/250 [==============================] - 3s 13ms/step - loss: 0.6336 - accuracy: 0.7784 - val_loss: 0.7412 - val_accuracy: 0.7539\n",
            "Epoch 9/100\n",
            "250/250 [==============================] - 3s 13ms/step - loss: 0.5840 - accuracy: 0.7972 - val_loss: 0.6722 - val_accuracy: 0.7667\n",
            "Epoch 10/100\n",
            "250/250 [==============================] - 3s 13ms/step - loss: 0.5443 - accuracy: 0.8093 - val_loss: 0.6691 - val_accuracy: 0.7720\n",
            "Epoch 11/100\n",
            "250/250 [==============================] - 3s 14ms/step - loss: 0.4857 - accuracy: 0.8290 - val_loss: 0.6482 - val_accuracy: 0.7722\n",
            "Epoch 12/100\n",
            "250/250 [==============================] - 3s 13ms/step - loss: 0.4650 - accuracy: 0.8354 - val_loss: 0.6219 - val_accuracy: 0.7878\n",
            "Epoch 13/100\n",
            "250/250 [==============================] - 3s 13ms/step - loss: 0.4304 - accuracy: 0.8478 - val_loss: 0.6148 - val_accuracy: 0.7855\n",
            "Epoch 14/100\n",
            "250/250 [==============================] - 3s 13ms/step - loss: 0.4040 - accuracy: 0.8571 - val_loss: 0.6231 - val_accuracy: 0.7842\n",
            "Epoch 15/100\n",
            "250/250 [==============================] - 3s 13ms/step - loss: 0.3713 - accuracy: 0.8693 - val_loss: 0.6151 - val_accuracy: 0.7909\n",
            "Epoch 16/100\n",
            "250/250 [==============================] - 3s 13ms/step - loss: 0.3526 - accuracy: 0.8751 - val_loss: 0.6243 - val_accuracy: 0.7845\n",
            "Epoch 17/100\n",
            "250/250 [==============================] - 3s 13ms/step - loss: 0.3283 - accuracy: 0.8838 - val_loss: 0.6209 - val_accuracy: 0.7898\n",
            "Epoch 18/100\n",
            "250/250 [==============================] - 3s 13ms/step - loss: 0.3088 - accuracy: 0.8911 - val_loss: 0.6534 - val_accuracy: 0.7855\n",
            "Epoch 19/100\n",
            "250/250 [==============================] - 3s 13ms/step - loss: 0.3064 - accuracy: 0.8904 - val_loss: 0.6494 - val_accuracy: 0.7856\n",
            "Epoch 20/100\n",
            "250/250 [==============================] - 3s 13ms/step - loss: 0.2855 - accuracy: 0.8975 - val_loss: 0.6340 - val_accuracy: 0.7941\n",
            "Epoch 21/100\n",
            "250/250 [==============================] - 3s 13ms/step - loss: 0.2668 - accuracy: 0.9058 - val_loss: 0.6111 - val_accuracy: 0.7962\n",
            "Epoch 22/100\n",
            "250/250 [==============================] - 3s 13ms/step - loss: 0.2553 - accuracy: 0.9089 - val_loss: 0.6504 - val_accuracy: 0.7930\n",
            "Epoch 23/100\n",
            "250/250 [==============================] - 3s 13ms/step - loss: 0.2406 - accuracy: 0.9143 - val_loss: 0.6549 - val_accuracy: 0.7966\n",
            "Epoch 24/100\n",
            "250/250 [==============================] - 3s 13ms/step - loss: 0.2298 - accuracy: 0.9184 - val_loss: 0.6532 - val_accuracy: 0.7960\n",
            "Epoch 25/100\n",
            "250/250 [==============================] - 3s 13ms/step - loss: 0.2309 - accuracy: 0.9174 - val_loss: 0.6736 - val_accuracy: 0.7925\n",
            "Epoch 26/100\n",
            "250/250 [==============================] - 3s 13ms/step - loss: 0.2167 - accuracy: 0.9216 - val_loss: 0.6966 - val_accuracy: 0.7905\n",
            "Epoch 27/100\n",
            "250/250 [==============================] - 3s 13ms/step - loss: 0.2096 - accuracy: 0.9266 - val_loss: 0.6618 - val_accuracy: 0.7949\n",
            "Epoch 28/100\n",
            "250/250 [==============================] - 3s 13ms/step - loss: 0.1994 - accuracy: 0.9285 - val_loss: 0.7171 - val_accuracy: 0.7896\n",
            "Epoch 29/100\n",
            "250/250 [==============================] - 3s 13ms/step - loss: 0.1901 - accuracy: 0.9335 - val_loss: 0.6894 - val_accuracy: 0.7933\n",
            "Epoch 30/100\n",
            "250/250 [==============================] - 3s 13ms/step - loss: 0.1944 - accuracy: 0.9318 - val_loss: 0.6715 - val_accuracy: 0.7961\n",
            "Epoch 31/100\n",
            "250/250 [==============================] - 3s 13ms/step - loss: 0.1871 - accuracy: 0.9355 - val_loss: 0.7062 - val_accuracy: 0.7988\n",
            "Epoch 32/100\n",
            "250/250 [==============================] - 3s 13ms/step - loss: 0.1819 - accuracy: 0.9368 - val_loss: 0.7136 - val_accuracy: 0.7948\n",
            "Epoch 33/100\n",
            "250/250 [==============================] - 3s 13ms/step - loss: 0.1713 - accuracy: 0.9394 - val_loss: 0.7051 - val_accuracy: 0.7970\n",
            "Epoch 34/100\n",
            "250/250 [==============================] - 3s 13ms/step - loss: 0.1714 - accuracy: 0.9391 - val_loss: 0.6570 - val_accuracy: 0.8023\n",
            "Epoch 35/100\n",
            "250/250 [==============================] - 3s 13ms/step - loss: 0.1686 - accuracy: 0.9408 - val_loss: 0.6861 - val_accuracy: 0.7930\n",
            "Epoch 36/100\n",
            "250/250 [==============================] - 3s 13ms/step - loss: 0.1557 - accuracy: 0.9448 - val_loss: 0.6705 - val_accuracy: 0.8059\n",
            "Epoch 37/100\n",
            "250/250 [==============================] - 3s 13ms/step - loss: 0.1532 - accuracy: 0.9475 - val_loss: 0.7035 - val_accuracy: 0.7987\n",
            "Epoch 38/100\n",
            "250/250 [==============================] - 3s 13ms/step - loss: 0.1535 - accuracy: 0.9472 - val_loss: 0.7071 - val_accuracy: 0.8016\n",
            "Epoch 39/100\n",
            "250/250 [==============================] - 3s 14ms/step - loss: 0.1523 - accuracy: 0.9472 - val_loss: 0.7376 - val_accuracy: 0.7905\n",
            "Epoch 40/100\n",
            "250/250 [==============================] - 3s 14ms/step - loss: 0.1492 - accuracy: 0.9489 - val_loss: 0.7165 - val_accuracy: 0.8018\n",
            "Epoch 41/100\n",
            "250/250 [==============================] - 3s 14ms/step - loss: 0.1412 - accuracy: 0.9509 - val_loss: 0.7566 - val_accuracy: 0.8021\n",
            "Epoch 42/100\n",
            "250/250 [==============================] - 3s 13ms/step - loss: 0.1399 - accuracy: 0.9514 - val_loss: 0.6977 - val_accuracy: 0.8059\n",
            "Epoch 43/100\n",
            "250/250 [==============================] - 3s 13ms/step - loss: 0.1391 - accuracy: 0.9523 - val_loss: 0.7442 - val_accuracy: 0.8033\n",
            "Epoch 44/100\n",
            "250/250 [==============================] - 3s 13ms/step - loss: 0.1385 - accuracy: 0.9522 - val_loss: 0.7253 - val_accuracy: 0.8026\n",
            "Epoch 45/100\n",
            "250/250 [==============================] - 3s 13ms/step - loss: 0.1366 - accuracy: 0.9529 - val_loss: 0.7385 - val_accuracy: 0.7992\n",
            "Epoch 46/100\n",
            "250/250 [==============================] - 3s 13ms/step - loss: 0.1307 - accuracy: 0.9548 - val_loss: 0.7135 - val_accuracy: 0.7999\n",
            "Epoch 47/100\n",
            "250/250 [==============================] - 3s 13ms/step - loss: 0.1316 - accuracy: 0.9547 - val_loss: 0.7035 - val_accuracy: 0.8060\n",
            "Epoch 48/100\n",
            "250/250 [==============================] - 3s 13ms/step - loss: 0.1217 - accuracy: 0.9572 - val_loss: 0.7271 - val_accuracy: 0.8031\n",
            "Epoch 49/100\n",
            "250/250 [==============================] - 3s 13ms/step - loss: 0.1259 - accuracy: 0.9569 - val_loss: 0.7287 - val_accuracy: 0.8066\n",
            "Epoch 50/100\n",
            "250/250 [==============================] - 3s 13ms/step - loss: 0.1253 - accuracy: 0.9569 - val_loss: 0.7616 - val_accuracy: 0.8031\n",
            "Epoch 51/100\n",
            "250/250 [==============================] - 3s 13ms/step - loss: 0.1301 - accuracy: 0.9560 - val_loss: 0.7436 - val_accuracy: 0.8116\n",
            "Epoch 52/100\n",
            "250/250 [==============================] - 3s 13ms/step - loss: 0.1209 - accuracy: 0.9590 - val_loss: 0.7334 - val_accuracy: 0.8059\n",
            "Epoch 53/100\n",
            "250/250 [==============================] - 3s 13ms/step - loss: 0.1199 - accuracy: 0.9588 - val_loss: 0.7921 - val_accuracy: 0.7923\n",
            "Epoch 54/100\n",
            "250/250 [==============================] - 3s 13ms/step - loss: 0.1240 - accuracy: 0.9581 - val_loss: 0.7395 - val_accuracy: 0.8042\n",
            "Epoch 55/100\n",
            "250/250 [==============================] - 3s 13ms/step - loss: 0.1136 - accuracy: 0.9610 - val_loss: 0.7537 - val_accuracy: 0.7941\n",
            "Epoch 56/100\n",
            "250/250 [==============================] - 3s 13ms/step - loss: 0.1221 - accuracy: 0.9585 - val_loss: 0.7811 - val_accuracy: 0.7983\n",
            "Epoch 57/100\n",
            "250/250 [==============================] - 3s 13ms/step - loss: 0.1185 - accuracy: 0.9592 - val_loss: 0.7637 - val_accuracy: 0.7994\n",
            "Epoch 58/100\n",
            "250/250 [==============================] - 3s 13ms/step - loss: 0.1150 - accuracy: 0.9610 - val_loss: 0.7976 - val_accuracy: 0.8013\n",
            "Epoch 59/100\n",
            "250/250 [==============================] - 3s 13ms/step - loss: 0.1139 - accuracy: 0.9617 - val_loss: 0.7866 - val_accuracy: 0.7982\n",
            "Epoch 60/100\n",
            "250/250 [==============================] - 3s 13ms/step - loss: 0.1080 - accuracy: 0.9627 - val_loss: 0.8045 - val_accuracy: 0.7996\n",
            "Epoch 61/100\n",
            "250/250 [==============================] - 3s 13ms/step - loss: 0.1138 - accuracy: 0.9618 - val_loss: 0.7858 - val_accuracy: 0.8037\n",
            "Epoch 62/100\n",
            "250/250 [==============================] - 3s 13ms/step - loss: 0.1141 - accuracy: 0.9620 - val_loss: 0.7591 - val_accuracy: 0.8034\n",
            "Epoch 63/100\n",
            "250/250 [==============================] - 3s 13ms/step - loss: 0.1105 - accuracy: 0.9620 - val_loss: 0.7823 - val_accuracy: 0.7999\n",
            "Epoch 64/100\n",
            "250/250 [==============================] - 3s 13ms/step - loss: 0.1043 - accuracy: 0.9642 - val_loss: 0.7704 - val_accuracy: 0.8097\n",
            "Epoch 65/100\n",
            "250/250 [==============================] - 3s 13ms/step - loss: 0.0980 - accuracy: 0.9664 - val_loss: 0.7951 - val_accuracy: 0.8044\n",
            "Epoch 66/100\n",
            "250/250 [==============================] - 3s 13ms/step - loss: 0.1086 - accuracy: 0.9637 - val_loss: 0.7656 - val_accuracy: 0.8030\n",
            "Epoch 67/100\n",
            "250/250 [==============================] - 3s 13ms/step - loss: 0.1044 - accuracy: 0.9645 - val_loss: 0.7592 - val_accuracy: 0.8074\n",
            "Epoch 68/100\n",
            "250/250 [==============================] - 3s 13ms/step - loss: 0.1017 - accuracy: 0.9648 - val_loss: 0.7563 - val_accuracy: 0.8072\n",
            "Epoch 69/100\n",
            "250/250 [==============================] - 3s 13ms/step - loss: 0.1086 - accuracy: 0.9633 - val_loss: 0.7800 - val_accuracy: 0.8003\n",
            "Epoch 70/100\n",
            "250/250 [==============================] - 3s 13ms/step - loss: 0.0989 - accuracy: 0.9664 - val_loss: 0.7656 - val_accuracy: 0.8030\n",
            "Epoch 71/100\n",
            "250/250 [==============================] - 3s 13ms/step - loss: 0.1004 - accuracy: 0.9677 - val_loss: 0.8347 - val_accuracy: 0.7960\n",
            "Epoch 72/100\n",
            "250/250 [==============================] - 3s 13ms/step - loss: 0.1026 - accuracy: 0.9655 - val_loss: 0.7563 - val_accuracy: 0.8055\n",
            "Epoch 73/100\n",
            "250/250 [==============================] - 3s 13ms/step - loss: 0.1014 - accuracy: 0.9665 - val_loss: 0.7927 - val_accuracy: 0.8049\n",
            "Epoch 74/100\n",
            "250/250 [==============================] - 3s 13ms/step - loss: 0.0934 - accuracy: 0.9680 - val_loss: 0.8458 - val_accuracy: 0.8068\n",
            "Epoch 75/100\n",
            "250/250 [==============================] - 3s 13ms/step - loss: 0.1004 - accuracy: 0.9663 - val_loss: 0.8366 - val_accuracy: 0.8054\n",
            "Epoch 76/100\n",
            "250/250 [==============================] - 3s 13ms/step - loss: 0.0962 - accuracy: 0.9680 - val_loss: 0.8088 - val_accuracy: 0.8017\n",
            "Epoch 77/100\n",
            "250/250 [==============================] - 3s 13ms/step - loss: 0.0964 - accuracy: 0.9679 - val_loss: 0.8288 - val_accuracy: 0.8059\n",
            "Epoch 78/100\n",
            "250/250 [==============================] - 3s 13ms/step - loss: 0.0924 - accuracy: 0.9691 - val_loss: 0.7666 - val_accuracy: 0.8075\n",
            "Epoch 79/100\n",
            "250/250 [==============================] - 3s 13ms/step - loss: 0.0967 - accuracy: 0.9677 - val_loss: 0.7874 - val_accuracy: 0.8095\n",
            "Epoch 80/100\n",
            "250/250 [==============================] - 3s 13ms/step - loss: 0.0983 - accuracy: 0.9670 - val_loss: 0.7511 - val_accuracy: 0.8107\n",
            "Epoch 81/100\n",
            "250/250 [==============================] - 3s 13ms/step - loss: 0.0889 - accuracy: 0.9701 - val_loss: 0.8169 - val_accuracy: 0.8108\n",
            "Epoch 82/100\n",
            "250/250 [==============================] - 3s 13ms/step - loss: 0.0946 - accuracy: 0.9695 - val_loss: 0.7884 - val_accuracy: 0.8091\n",
            "Epoch 83/100\n",
            "250/250 [==============================] - 3s 14ms/step - loss: 0.0892 - accuracy: 0.9704 - val_loss: 0.7666 - val_accuracy: 0.8128\n",
            "Epoch 84/100\n",
            "250/250 [==============================] - 3s 13ms/step - loss: 0.0877 - accuracy: 0.9715 - val_loss: 0.8356 - val_accuracy: 0.8122\n",
            "Epoch 85/100\n",
            "250/250 [==============================] - 3s 13ms/step - loss: 0.0889 - accuracy: 0.9704 - val_loss: 0.8483 - val_accuracy: 0.8057\n",
            "Epoch 86/100\n",
            "250/250 [==============================] - 3s 13ms/step - loss: 0.0941 - accuracy: 0.9689 - val_loss: 0.7682 - val_accuracy: 0.8154\n",
            "Epoch 87/100\n",
            "250/250 [==============================] - 3s 13ms/step - loss: 0.0895 - accuracy: 0.9700 - val_loss: 0.7341 - val_accuracy: 0.8146\n",
            "Epoch 88/100\n",
            "250/250 [==============================] - 3s 13ms/step - loss: 0.0857 - accuracy: 0.9723 - val_loss: 0.8708 - val_accuracy: 0.8011\n",
            "Epoch 89/100\n",
            "250/250 [==============================] - 3s 13ms/step - loss: 0.0864 - accuracy: 0.9714 - val_loss: 0.8123 - val_accuracy: 0.8097\n",
            "Epoch 90/100\n",
            "250/250 [==============================] - 3s 13ms/step - loss: 0.0831 - accuracy: 0.9716 - val_loss: 0.8284 - val_accuracy: 0.8070\n",
            "Epoch 91/100\n",
            "250/250 [==============================] - 3s 13ms/step - loss: 0.0964 - accuracy: 0.9683 - val_loss: 0.8261 - val_accuracy: 0.8044\n",
            "Epoch 92/100\n",
            "250/250 [==============================] - 3s 13ms/step - loss: 0.0895 - accuracy: 0.9706 - val_loss: 0.8268 - val_accuracy: 0.8084\n",
            "Epoch 93/100\n",
            "250/250 [==============================] - 3s 13ms/step - loss: 0.0813 - accuracy: 0.9730 - val_loss: 0.7910 - val_accuracy: 0.8135\n",
            "Epoch 94/100\n",
            "250/250 [==============================] - 3s 13ms/step - loss: 0.0863 - accuracy: 0.9713 - val_loss: 0.7971 - val_accuracy: 0.8119\n",
            "Epoch 95/100\n",
            "250/250 [==============================] - 3s 13ms/step - loss: 0.0888 - accuracy: 0.9709 - val_loss: 0.7582 - val_accuracy: 0.8154\n",
            "Epoch 96/100\n",
            "250/250 [==============================] - 3s 13ms/step - loss: 0.0869 - accuracy: 0.9710 - val_loss: 0.7942 - val_accuracy: 0.8125\n",
            "Epoch 97/100\n",
            "250/250 [==============================] - 3s 13ms/step - loss: 0.0863 - accuracy: 0.9712 - val_loss: 0.7830 - val_accuracy: 0.8123\n",
            "Epoch 98/100\n",
            "250/250 [==============================] - 3s 13ms/step - loss: 0.0843 - accuracy: 0.9719 - val_loss: 0.8077 - val_accuracy: 0.8123\n",
            "Epoch 99/100\n",
            "250/250 [==============================] - 3s 13ms/step - loss: 0.0753 - accuracy: 0.9756 - val_loss: 0.8083 - val_accuracy: 0.8077\n",
            "Epoch 100/100\n",
            "250/250 [==============================] - 3s 13ms/step - loss: 0.0828 - accuracy: 0.9725 - val_loss: 0.8010 - val_accuracy: 0.8125\n"
          ],
          "name": "stdout"
        }
      ]
    },
    {
      "cell_type": "code",
      "metadata": {
        "id": "_zhuKFdxIySO",
        "colab_type": "code",
        "colab": {
          "base_uri": "https://localhost:8080/",
          "height": 52
        },
        "outputId": "b9977687-628a-4958-cade-eef1272ca9c3"
      },
      "source": [
        "\t# evaluate model\n",
        "\tacc = model.evaluate(testX, testY, verbose=1)\n",
        "\tprint(\"Test Accuracy :\", acc[1]*100)"
      ],
      "execution_count": 9,
      "outputs": [
        {
          "output_type": "stream",
          "text": [
            "313/313 [==============================] - 1s 3ms/step - loss: 0.8010 - accuracy: 0.8125\n",
            "Test Accuracy : 81.25\n"
          ],
          "name": "stdout"
        }
      ]
    },
    {
      "cell_type": "markdown",
      "metadata": {
        "id": "rjj7U7y55f3_",
        "colab_type": "text"
      },
      "source": [
        "# Plot diagnostic learning curves"
      ]
    },
    {
      "cell_type": "code",
      "metadata": {
        "id": "q11V0scu5NE7",
        "colab_type": "code",
        "colab": {
          "base_uri": "https://localhost:8080/",
          "height": 299
        },
        "outputId": "208327c5-26ff-4a17-e743-447d201629b7"
      },
      "source": [
        "# plot loss\n",
        "pyplot.subplot(211)\n",
        "pyplot.title('Cross Entropy Loss')\n",
        "pyplot.plot(history.history['loss'], color='blue', label='train')\n",
        "pyplot.plot(history.history['val_loss'], color='orange', label='test')\n",
        "# plot accuracy\n",
        "pyplot.subplot(212)\n",
        "pyplot.title('Classification Accuracy')\n",
        "pyplot.plot(history.history['accuracy'], color='blue', label='train')\n",
        "pyplot.plot(history.history['val_accuracy'], color='orange', label='test')"
      ],
      "execution_count": 10,
      "outputs": [
        {
          "output_type": "execute_result",
          "data": {
            "text/plain": [
              "[<matplotlib.lines.Line2D at 0x7f173c0f7f98>]"
            ]
          },
          "metadata": {
            "tags": []
          },
          "execution_count": 10
        },
        {
          "output_type": "display_data",
          "data": {
            "image/png": "[encoded data removed]",
            "text/plain": [
              "<Figure size 432x288 with 2 Axes>"
            ]
          },
          "metadata": {
            "tags": [],
            "needs_background": "light"
          }
        }
      ]
    }
  ]
}