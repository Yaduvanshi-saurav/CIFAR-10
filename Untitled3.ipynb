{
  "nbformat": 4,
  "nbformat_minor": 0,
  "metadata": {
    "colab": {
      "name": "Untitled3.ipynb",
      "provenance": [],
      "collapsed_sections": []
    },
    "kernelspec": {
      "name": "python3",
      "display_name": "Python 3"
    }
  },
  "cells": [
    {
      "cell_type": "code",
      "metadata": {
        "id": "E1DpkSdrzwjG",
        "colab_type": "code",
        "colab": {}
      },
      "source": [
        "import sys\n",
        "from keras import backend as K\n",
        "from tensorflow import keras\n",
        "from matplotlib import pyplot\n",
        "from keras.datasets import cifar10\n",
        "from keras.utils import to_categorical\n",
        "from keras.models import Sequential\n",
        "from keras.layers import Conv2D\n",
        "from keras.layers import MaxPooling2D\n",
        "from keras.layers import Dropout\n",
        "from keras.layers import Dense\n",
        "from keras.layers import Flatten\n",
        "from keras.optimizers import SGD\n",
        "from tensorflow.keras.callbacks import EarlyStopping\n",
        "from tensorflow.keras.callbacks import ModelCheckpoint\n",
        "from tensorflow.keras.models import load_model\n",
        "import h5py\n",
        "%matplotlib inline"
      ],
      "execution_count": null,
      "outputs": []
    },
    {
      "cell_type": "code",
      "metadata": {
        "id": "idNw-tCp0dXl",
        "colab_type": "code",
        "colab": {}
      },
      "source": [
        "# load train and test dataset\n",
        "def load_dataset():\n",
        "\t# load dataset\n",
        "\t(trainX, trainY), (testX, testY) = cifar10.load_data()\n",
        "\t# one hot encode target values\n",
        "\ttrainY = to_categorical(trainY)\n",
        "\ttestY = to_categorical(testY)\n",
        "\treturn trainX, trainY, testX, testY"
      ],
      "execution_count": null,
      "outputs": []
    },
    {
      "cell_type": "code",
      "metadata": {
        "id": "h9q6tfIk0i7f",
        "colab_type": "code",
        "colab": {}
      },
      "source": [
        "def prep_pixels(train, test):\n",
        "\t# convert from integers to floats\n",
        "\ttrain_norm = train.astype('float32')\n",
        "\ttest_norm = test.astype('float32')\n",
        "\t# normalize to range 0-1\n",
        "\ttrain_norm = train_norm / 255.0\n",
        "\ttest_norm = test_norm / 255.0\n",
        "\t# return normalized images\n",
        "\treturn train_norm, test_norm\n",
        " "
      ],
      "execution_count": null,
      "outputs": []
    },
    {
      "cell_type": "code",
      "metadata": {
        "id": "jVhOunBx2P0G",
        "colab_type": "code",
        "colab": {}
      },
      "source": [
        "def define_model():\n",
        "  model = Sequential()\n",
        "  model.add(Conv2D(32, (3, 3), activation='relu', kernel_initializer='he_uniform', padding='same', input_shape=(32, 32, 3)))\n",
        "  model.add(Conv2D(32, (3, 3), activation='relu', kernel_initializer='he_uniform', padding='same'))\n",
        "  model.add(Dropout(0.2))\n",
        "  model.add(MaxPooling2D((2, 2)))\n",
        "\n",
        "  model.add(Conv2D(64, (3, 3), activation='relu', kernel_initializer='he_uniform', padding='same'))\n",
        "  model.add(Conv2D(64, (3, 3), activation='relu', kernel_initializer='he_uniform', padding='same'))\n",
        "  model.add(Dropout(0.2))\n",
        "  model.add(MaxPooling2D((2, 2)))\n",
        "\n",
        "  model.add(Conv2D(128, (3, 3), activation='relu', kernel_initializer='he_uniform', padding='same'))\n",
        "  model.add(Conv2D(128, (3, 3), activation='relu', kernel_initializer='he_uniform', padding='same'))\n",
        "  model.add(Dropout(0.2))\n",
        "  model.add(MaxPooling2D((2, 2)))\n",
        "\n",
        "  model.add(Flatten())\n",
        "  model.add(Dense(128, activation='relu', kernel_initializer='he_uniform'))\n",
        "  model.add(Dropout(0.2))\n",
        "  model.add(Dense(10, activation='softmax'))\n",
        "\t# compile model\n",
        "\t#opt = SGD(lr=0.001, momentum=0.9)\n",
        "  model.compile(optimizer=\"adam\", loss='categorical_crossentropy', metrics=['accuracy'])\n",
        "  return model"
      ],
      "execution_count": null,
      "outputs": []
    },
    {
      "cell_type": "code",
      "metadata": {
        "id": "fbPkuGSz8i1t",
        "colab_type": "code",
        "colab": {}
      },
      "source": [
        "def summarize_diagnostics(history):\n",
        "\t# plot loss\n",
        "\tpyplot.subplot(211)\n",
        "\tpyplot.title('Cross Entropy Loss')\n",
        "\tpyplot.plot(history.history['loss'], color='blue', label='train')\n",
        "\tpyplot.plot(history.history['val_loss'], color='orange', label='test')\n",
        "\t# plot accuracy\n",
        "\tpyplot.subplot(212)\n",
        "\tpyplot.title('Classification Accuracy')\n",
        "\tpyplot.plot(history.history['accuracy'], color='blue', label='train')\n",
        "\tpyplot.plot(history.history['val_accuracy'], color='orange', label='test')\n",
        "\t# save plot to file\n",
        "\tfilename = sys.argv[0].split('/')[-1]\n",
        "\tpyplot.savefig(filename + '_plot.png')\n",
        "\tpyplot.close()"
      ],
      "execution_count": null,
      "outputs": []
    },
    {
      "cell_type": "code",
      "metadata": {
        "id": "Qk6zQFR6-krW",
        "colab_type": "code",
        "colab": {
          "base_uri": "https://localhost:8080/",
          "height": 689
        },
        "outputId": "df415053-7e39-4e6a-d77f-9fdf503f13c9"
      },
      "source": [
        "# load dataset\n",
        "trainX, trainY, testX, testY = load_dataset()\n",
        "# prepare pixel data\n",
        "trainX, testX = prep_pixels(trainX, testX)\n",
        "# define model\n",
        "model = define_model()\n",
        "model.summary()"
      ],
      "execution_count": null,
      "outputs": [
        {
          "output_type": "stream",
          "text": [
            "Model: \"sequential_1\"\n",
            "_________________________________________________________________\n",
            "Layer (type)                 Output Shape              Param #   \n",
            "=================================================================\n",
            "conv2d_2 (Conv2D)            (None, 32, 32, 32)        896       \n",
            "_________________________________________________________________\n",
            "conv2d_3 (Conv2D)            (None, 32, 32, 32)        9248      \n",
            "_________________________________________________________________\n",
            "dropout (Dropout)            (None, 32, 32, 32)        0         \n",
            "_________________________________________________________________\n",
            "max_pooling2d (MaxPooling2D) (None, 16, 16, 32)        0         \n",
            "_________________________________________________________________\n",
            "conv2d_4 (Conv2D)            (None, 16, 16, 64)        18496     \n",
            "_________________________________________________________________\n",
            "conv2d_5 (Conv2D)            (None, 16, 16, 64)        36928     \n",
            "_________________________________________________________________\n",
            "dropout_1 (Dropout)          (None, 16, 16, 64)        0         \n",
            "_________________________________________________________________\n",
            "max_pooling2d_1 (MaxPooling2 (None, 8, 8, 64)          0         \n",
            "_________________________________________________________________\n",
            "conv2d_6 (Conv2D)            (None, 8, 8, 128)         73856     \n",
            "_________________________________________________________________\n",
            "conv2d_7 (Conv2D)            (None, 8, 8, 128)         147584    \n",
            "_________________________________________________________________\n",
            "dropout_2 (Dropout)          (None, 8, 8, 128)         0         \n",
            "_________________________________________________________________\n",
            "max_pooling2d_2 (MaxPooling2 (None, 4, 4, 128)         0         \n",
            "_________________________________________________________________\n",
            "flatten (Flatten)            (None, 2048)              0         \n",
            "_________________________________________________________________\n",
            "dense (Dense)                (None, 128)               262272    \n",
            "_________________________________________________________________\n",
            "dropout_3 (Dropout)          (None, 128)               0         \n",
            "_________________________________________________________________\n",
            "dense_1 (Dense)              (None, 10)                1290      \n",
            "=================================================================\n",
            "Total params: 550,570\n",
            "Trainable params: 550,570\n",
            "Non-trainable params: 0\n",
            "_________________________________________________________________\n"
          ],
          "name": "stdout"
        }
      ]
    },
    {
      "cell_type": "code",
      "metadata": {
        "id": "6tx6_f1EBfLx",
        "colab_type": "code",
        "colab": {
          "base_uri": "https://localhost:8080/",
          "height": 1000
        },
        "outputId": "cd416be7-3ca4-488d-e24b-213fd65646eb"
      },
      "source": [
        "# fit model\n",
        "history = model.fit(trainX, trainY, epochs=100, batch_size=200, validation_data=(testX, testY))"
      ],
      "execution_count": null,
      "outputs": [
        {
          "output_type": "stream",
          "text": [
            "Epoch 1/100\n",
            "250/250 [==============================] - 381s 2s/step - loss: 1.7279 - accuracy: 0.3702 - val_loss: 1.3895 - val_accuracy: 0.5315\n",
            "Epoch 2/100\n",
            "250/250 [==============================] - 380s 2s/step - loss: 1.2200 - accuracy: 0.5643 - val_loss: 1.1059 - val_accuracy: 0.6293\n",
            "Epoch 3/100\n",
            "250/250 [==============================] - 379s 2s/step - loss: 1.0119 - accuracy: 0.6450 - val_loss: 1.0040 - val_accuracy: 0.6670\n",
            "Epoch 4/100\n",
            "250/250 [==============================] - 379s 2s/step - loss: 0.8684 - accuracy: 0.6959 - val_loss: 0.8713 - val_accuracy: 0.7179\n",
            "Epoch 5/100\n",
            "250/250 [==============================] - 381s 2s/step - loss: 0.7648 - accuracy: 0.7340 - val_loss: 0.7925 - val_accuracy: 0.7353\n",
            "Epoch 6/100\n",
            "250/250 [==============================] - 380s 2s/step - loss: 0.6876 - accuracy: 0.7619 - val_loss: 0.7461 - val_accuracy: 0.7484\n",
            "Epoch 7/100\n",
            "250/250 [==============================] - 381s 2s/step - loss: 0.6267 - accuracy: 0.7825 - val_loss: 0.7039 - val_accuracy: 0.7671\n",
            "Epoch 8/100\n",
            "250/250 [==============================] - 379s 2s/step - loss: 0.5715 - accuracy: 0.8023 - val_loss: 0.6840 - val_accuracy: 0.7670\n",
            "Epoch 9/100\n",
            "250/250 [==============================] - 381s 2s/step - loss: 0.5320 - accuracy: 0.8147 - val_loss: 0.6603 - val_accuracy: 0.7797\n",
            "Epoch 10/100\n",
            "250/250 [==============================] - 383s 2s/step - loss: 0.4782 - accuracy: 0.8325 - val_loss: 0.6256 - val_accuracy: 0.7829\n",
            "Epoch 11/100\n",
            "250/250 [==============================] - 375s 1s/step - loss: 0.4465 - accuracy: 0.8423 - val_loss: 0.6334 - val_accuracy: 0.7848\n",
            "Epoch 12/100\n",
            "250/250 [==============================] - 378s 2s/step - loss: 0.4100 - accuracy: 0.8541 - val_loss: 0.6004 - val_accuracy: 0.7944\n",
            "Epoch 13/100\n",
            "250/250 [==============================] - 377s 2s/step - loss: 0.3821 - accuracy: 0.8638 - val_loss: 0.6162 - val_accuracy: 0.7887\n",
            "Epoch 14/100\n",
            "250/250 [==============================] - 375s 1s/step - loss: 0.3533 - accuracy: 0.8748 - val_loss: 0.6448 - val_accuracy: 0.7800\n",
            "Epoch 15/100\n",
            "250/250 [==============================] - 377s 2s/step - loss: 0.3312 - accuracy: 0.8821 - val_loss: 0.5945 - val_accuracy: 0.7985\n",
            "Epoch 16/100\n",
            "250/250 [==============================] - 375s 2s/step - loss: 0.3119 - accuracy: 0.8895 - val_loss: 0.6025 - val_accuracy: 0.7986\n",
            "Epoch 17/100\n",
            "250/250 [==============================] - 381s 2s/step - loss: 0.2974 - accuracy: 0.8947 - val_loss: 0.6212 - val_accuracy: 0.7938\n",
            "Epoch 18/100\n",
            "250/250 [==============================] - 378s 2s/step - loss: 0.2731 - accuracy: 0.9025 - val_loss: 0.6207 - val_accuracy: 0.8001\n",
            "Epoch 19/100\n",
            "250/250 [==============================] - 378s 2s/step - loss: 0.2528 - accuracy: 0.9096 - val_loss: 0.6527 - val_accuracy: 0.7955\n",
            "Epoch 20/100\n",
            "250/250 [==============================] - 386s 2s/step - loss: 0.2473 - accuracy: 0.9120 - val_loss: 0.6435 - val_accuracy: 0.7922\n",
            "Epoch 21/100\n",
            "250/250 [==============================] - 382s 2s/step - loss: 0.2271 - accuracy: 0.9183 - val_loss: 0.6299 - val_accuracy: 0.7962\n",
            "Epoch 22/100\n",
            "250/250 [==============================] - 379s 2s/step - loss: 0.2369 - accuracy: 0.9161 - val_loss: 0.6170 - val_accuracy: 0.7987\n",
            "Epoch 23/100\n",
            "250/250 [==============================] - 379s 2s/step - loss: 0.2131 - accuracy: 0.9236 - val_loss: 0.6740 - val_accuracy: 0.7998\n",
            "Epoch 24/100\n",
            "250/250 [==============================] - 374s 1s/step - loss: 0.2068 - accuracy: 0.9258 - val_loss: 0.6411 - val_accuracy: 0.8028\n",
            "Epoch 25/100\n",
            "250/250 [==============================] - 379s 2s/step - loss: 0.1980 - accuracy: 0.9302 - val_loss: 0.6901 - val_accuracy: 0.7860\n",
            "Epoch 26/100\n",
            "250/250 [==============================] - 384s 2s/step - loss: 0.1952 - accuracy: 0.9314 - val_loss: 0.6632 - val_accuracy: 0.7989\n",
            "Epoch 27/100\n",
            "250/250 [==============================] - 377s 2s/step - loss: 0.1956 - accuracy: 0.9311 - val_loss: 0.6681 - val_accuracy: 0.7962\n",
            "Epoch 28/100\n",
            "250/250 [==============================] - 381s 2s/step - loss: 0.1819 - accuracy: 0.9366 - val_loss: 0.6770 - val_accuracy: 0.8043\n",
            "Epoch 29/100\n",
            "250/250 [==============================] - 380s 2s/step - loss: 0.1753 - accuracy: 0.9390 - val_loss: 0.6728 - val_accuracy: 0.7992\n",
            "Epoch 30/100\n",
            "250/250 [==============================] - 374s 1s/step - loss: 0.1707 - accuracy: 0.9408 - val_loss: 0.6808 - val_accuracy: 0.8024\n",
            "Epoch 31/100\n",
            "250/250 [==============================] - 378s 2s/step - loss: 0.1658 - accuracy: 0.9430 - val_loss: 0.6720 - val_accuracy: 0.8032\n",
            "Epoch 32/100\n",
            "250/250 [==============================] - 375s 1s/step - loss: 0.1615 - accuracy: 0.9425 - val_loss: 0.7180 - val_accuracy: 0.7993\n",
            "Epoch 33/100\n",
            "250/250 [==============================] - 378s 2s/step - loss: 0.1623 - accuracy: 0.9427 - val_loss: 0.6921 - val_accuracy: 0.7961\n",
            "Epoch 34/100\n",
            "250/250 [==============================] - 383s 2s/step - loss: 0.1508 - accuracy: 0.9465 - val_loss: 0.7044 - val_accuracy: 0.7979\n",
            "Epoch 35/100\n",
            "250/250 [==============================] - 380s 2s/step - loss: 0.1404 - accuracy: 0.9509 - val_loss: 0.7097 - val_accuracy: 0.8007\n",
            "Epoch 36/100\n",
            "192/250 [======================>.......] - ETA: 1:25 - loss: 0.1361 - accuracy: 0.9528"
          ],
          "name": "stdout"
        }
      ]
    },
    {
      "cell_type": "code",
      "metadata": {
        "id": "_zhuKFdxIySO",
        "colab_type": "code",
        "colab": {}
      },
      "source": [
        ""
      ],
      "execution_count": null,
      "outputs": []
    }
  ]
}